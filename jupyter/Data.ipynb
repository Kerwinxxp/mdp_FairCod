{
 "cells": [
  {
   "cell_type": "code",
   "execution_count": 1,
   "metadata": {},
   "outputs": [],
   "source": [
    "# 设计一些toy data example去支撑我们的设计\n",
    "# ①假设一：使用方形网格设计（后续可以改成六边形，其实也不一定有必要）\n",
    "# ② 假设二：区域设定为6公里 × 6公里，设定一个合理的骑手速度，骑手量与订单量（骑手量和订单量可以作为变量调节）\n",
    "# ③ 假设三：区域6km × 6km，网格300m × 300m，形成一个20 × 20 = 400的网格区域，纬度为30.70 -- 30.76,经度121.10--121.16，\n",
    "#一个小区域0.0005 × 0.0005，比如30.70 --30.703,121.10 -- 121.103。即0.06为6km，0.003为300m。\n",
    "# ④ 假设四：骑手速度：12.11km/h,200m/min。这样跑一个对角需要42min，差不多。"
   ]
  },
  {
   "cell_type": "markdown",
   "metadata": {},
   "source": [
    "### 丁一学长给的经纬度对应关系"
   ]
  },
  {
   "cell_type": "code",
   "execution_count": 2,
   "metadata": {},
   "outputs": [],
   "source": [
    "# The following is the lat/lon area I used to cover Shanghai.\n",
    "# AND latitude > 30.7 AND latitude < 31.5\n",
    "# AND longitude > 121.1 AND longitude < 121.9\n",
    "\n",
    "# The following is the mapping between grid ID and lat/lon.\n",
    "# ((FLOOR(t1.latitude*100)-3070)*80+(FLOOR(t1.longitude*100)-12110)) AS grid_id"
   ]
  },
  {
   "cell_type": "markdown",
   "metadata": {},
   "source": [
    "### 头文件区"
   ]
  },
  {
   "cell_type": "code",
   "execution_count": 3,
   "metadata": {},
   "outputs": [],
   "source": [
    "from math import sin, asin, cos, radians, fabs, sqrt\n",
    "EARTH_RADIUS = 6371  # 地球平均半径，6371km\n",
    "import pandas as pd\n",
    "import numpy as np\n",
    "import matplotlib.pyplot as plt\n",
    "import pickle"
   ]
  },
  {
   "cell_type": "markdown",
   "metadata": {},
   "source": [
    "### 函数区"
   ]
  },
  {
   "cell_type": "code",
   "execution_count": 4,
   "metadata": {},
   "outputs": [],
   "source": [
    "def hav(theta):\n",
    "    s = sin(theta / 2)\n",
    "    return s * s\n",
    "\n",
    "\n",
    "def get_distance_hav(lat0, lng0, lat1, lng1):\n",
    "    \"\"\"\n",
    "     用haversine公式计算球面两点间的距离\n",
    "    \"\"\"\n",
    "    # 经纬度转换成弧度\n",
    "    lat0 = radians(lat0)\n",
    "    lat1 = radians(lat1)\n",
    "    lng0 = radians(lng0)\n",
    "    lng1 = radians(lng1)\n",
    "\n",
    "    dlng = fabs(lng0 - lng1)\n",
    "    dlat = fabs(lat0 - lat1)\n",
    "    h = hav(dlat) + cos(lat0) * cos(lat1) * hav(dlng)\n",
    "    distance = 2 * EARTH_RADIUS * asin(sqrt(h))\n",
    "\n",
    "    return round(distance * 1000)"
   ]
  },
  {
   "cell_type": "code",
   "execution_count": 5,
   "metadata": {},
   "outputs": [
    {
     "data": {
      "text/plain": [
       "334"
      ]
     },
     "execution_count": 5,
     "metadata": {},
     "output_type": "execute_result"
    }
   ],
   "source": [
    "get_distance_hav(30.70,121.10,30.703,121.10)"
   ]
  },
  {
   "cell_type": "markdown",
   "metadata": {},
   "source": [
    " ### 确定有多少家商家，多少个骑手，多少个订单"
   ]
  },
  {
   "cell_type": "code",
   "execution_count": 6,
   "metadata": {},
   "outputs": [],
   "source": [
    "# 区域: latitude:30.70--30.76    longitude: 121.10 -- 121.16    6000m 300m  200m/min"
   ]
  },
  {
   "cell_type": "code",
   "execution_count": 7,
   "metadata": {},
   "outputs": [],
   "source": [
    "# 将区域分为四个部分：高商高顾（CBD），高商低顾（商业区），低商高顾（居民区），低商低顾（郊区）"
   ]
  },
  {
   "cell_type": "code",
   "execution_count": 8,
   "metadata": {},
   "outputs": [],
   "source": [
    "# 派单区域按照网格来算，每五分钟更新骑手所在的位置和所在的网格，如果骑手在更新时还没有收到新订单，他会前往最近的CBD区和商业区。"
   ]
  },
  {
   "cell_type": "code",
   "execution_count": 9,
   "metadata": {},
   "outputs": [],
   "source": [
    "# 每五分钟派一次单，即每五分钟更新一次骑手的状态，骑手的状态分为三种(配送中，等待中，回程中)，\n",
    "#配送中会记录处在哪个区域内，还有多久离开这个区域，下一个区域名称。\n",
    "# 等待中会记录处在哪个区域中，还有多少等待时间。\n",
    "# 回程中会记录处在哪个区域内，还有多久离开这个区域，下一个区域名称。\n",
    "# 骑手前往临近区域只有两种，直行/斜行，直行300m花费1.5min，斜行400m花费2min。\n",
    "# 骑手会记录一个路径，在派单的过程中会持续记录路径"
   ]
  },
  {
   "cell_type": "code",
   "execution_count": 10,
   "metadata": {},
   "outputs": [],
   "source": [
    "# 29个CBD，44个商业区，91个居民区，236个郊区。\n",
    "# 400个区域，293个商家，1000个骑手，n个订单（订单平均长度3500m，每个骑手每小时一定能处理3单）"
   ]
  },
  {
   "cell_type": "markdown",
   "metadata": {},
   "source": [
    "#### 确定每个区域的类型"
   ]
  },
  {
   "cell_type": "code",
   "execution_count": 11,
   "metadata": {},
   "outputs": [],
   "source": [
    "# 区域的编号为：x + 20*y  (x,y都是0-19)"
   ]
  },
  {
   "cell_type": "code",
   "execution_count": 12,
   "metadata": {},
   "outputs": [],
   "source": [
    "# 0 1 1 2\n",
    "# 2 2 1 3\n",
    "# 2 3 4 2\n",
    "# 1 2 1 2\n",
    "CBDList = []\n",
    "# 1 2 1 2\n",
    "# 2 3 2 5\n",
    "# 2 3 8 1\n",
    "# 2 5 3 2\n",
    "commerceList = []\n",
    "# 3 6 3 5\n",
    "# 4 6 5 7\n",
    "# 6 7 12 4\n",
    "# 5 6 5 7\n",
    "residentList = []\n",
    "# 22 16 20 16 \n",
    "# 17 14 17 10\n",
    "# 15 12 1 18\n",
    "# 17 12 16 14\n",
    "suburbList = []"
   ]
  },
  {
   "cell_type": "code",
   "execution_count": 13,
   "metadata": {
    "pycharm": {
     "name": "#%%\n"
    }
   },
   "outputs": [],
   "source": [
    "CBDNumList =      [ 0, 1, 1, 2, 2, 2, 1, 3, 2, 3, 4, 2, 1, 2, 1, 2]\n",
    "commerceNumList = [ 1, 2, 1, 2, 2, 3, 2, 5, 2, 3, 8, 1, 2, 5, 3, 2]\n",
    "residentNumList = [ 3, 6, 3, 5, 4, 6, 5, 7, 6, 7,12, 4, 5, 6, 5, 7]\n",
    "suburbNumList =   [21,16,20,16,17,14,17,10,15,12, 1,18,17,12,16,14]\n",
    "numList = [CBDNumList,commerceNumList,residentNumList,suburbNumList]"
   ]
  },
  {
   "cell_type": "code",
   "execution_count": 23,
   "metadata": {
    "pycharm": {
     "name": "#%%\n"
    }
   },
   "outputs": [],
   "source": [
    "import random\n",
    "fourDistrictType = [30,44,85,241]\n",
    "nodeList = []\n",
    "for x in range(4):\n",
    "    for y in range(4):\n",
    "        xList = list(range(x*5,x*5+5))\n",
    "        yList = list(range(y*5,y*5+5))\n",
    "        nodeDistrictList = []\n",
    "        for nodex in xList:\n",
    "            for nodey in yList:\n",
    "                nodeDistrictList.append(nodex * 20 + nodey)\n",
    "        nodeDistrictList = list(sorted(nodeDistrictList))\n",
    "        nodeList.append(nodeDistrictList)\n",
    "        \n",
    "nodeTypeList = []  # 有四个子list，分别装四个区域对应的node编号\n",
    "\n",
    "for i in range(4):\n",
    "    districtNumList = numList[i] # 每种类型在小区域内的数\n",
    "    tempNodeList = [] # 记录更新后的node\n",
    "    tempNodeTypeList = [] # 记录单个区域对应的node编号\n",
    "    for j in range(16):\n",
    "        districtNumTypeList = random.sample(nodeList[j],districtNumList[j]) # 从nodelist中随机选择一些数\n",
    "        tempNode = []\n",
    "        for node in nodeList[j]:\n",
    "            if node not in districtNumTypeList:\n",
    "                tempNode.append(node)\n",
    "        tempNodeList.append(tempNode) # 更新后的nodelist\n",
    "        tempNodeTypeList.append(districtNumTypeList)\n",
    "    nodeList = tempNodeList\n",
    "    tempNodeTypeList = [x for y in tempNodeTypeList for x in y]\n",
    "    tempNodeTypeList = sorted(tempNodeTypeList)\n",
    "    nodeTypeList.append(tempNodeTypeList)"
   ]
  },
  {
   "cell_type": "code",
   "execution_count": 24,
   "metadata": {},
   "outputs": [],
   "source": [
    "# nodelist 包含16个小区域的编号\n",
    "# numList 为每种类型在16个小区域内的数\n",
    "# nodeTypeList 包含每种类型的编号"
   ]
  },
  {
   "cell_type": "code",
   "execution_count": 25,
   "metadata": {},
   "outputs": [],
   "source": [
    "# 将网格内的区域进行可视化"
   ]
  },
  {
   "cell_type": "code",
   "execution_count": 26,
   "metadata": {},
   "outputs": [],
   "source": [
    "# 将nodeTypeList转化成0-1矩阵的形式"
   ]
  },
  {
   "cell_type": "code",
   "execution_count": 27,
   "metadata": {},
   "outputs": [],
   "source": [
    "nodeTypeMatrix = [0] * 400\n",
    "for i in range(4):\n",
    "    for num in nodeTypeList[i]:\n",
    "        nodeTypeMatrix[num] = i\n",
    "nodeTypeMatrix = np.array(nodeTypeMatrix).reshape(20,20)"
   ]
  },
  {
   "cell_type": "code",
   "execution_count": 28,
   "metadata": {},
   "outputs": [],
   "source": [
    "nodeTypeMatrix = list(nodeTypeMatrix)"
   ]
  },
  {
   "cell_type": "code",
   "execution_count": 29,
   "metadata": {},
   "outputs": [],
   "source": [
    "# 紫色为CBD区，高merchant高customer\n",
    "# 蓝色为饮食区，高merchant低customer\n",
    "# 绿色为居民区，低merchant高customer\n",
    "# 黄色为郊区，低merchant低customer"
   ]
  },
  {
   "cell_type": "code",
   "execution_count": 47,
   "metadata": {},
   "outputs": [
    {
     "data": {
      "image/png": "[encoded data removed]",
      "text/plain": [
       "<Figure size 864x864 with 1 Axes>"
      ]
     },
     "metadata": {
      "needs_background": "light"
     },
     "output_type": "display_data"
    }
   ],
   "source": [
    "plt.figure(figsize = (12,12))\n",
    "plt.yticks(np.arange(-0.5,20.5,1),np.arange(0,21,1))\n",
    "plt.xticks(np.arange(-0.5,20.5,1),np.arange(0,21,1))\n",
    "plt.grid(True)\n",
    "plt.imshow(nodeTypeMatrix)\n",
    "plt.savefig('./DataSave/nodeTypePicture.png')"
   ]
  },
  {
   "cell_type": "code",
   "execution_count": 31,
   "metadata": {},
   "outputs": [],
   "source": [
    "with open('./DataSave/nodeTypeMatrix.pkl','wb') as fw:\n",
    "    pickle.dump(nodeTypeMatrix,fw)"
   ]
  },
  {
   "cell_type": "code",
   "execution_count": 32,
   "metadata": {},
   "outputs": [],
   "source": [
    "with open('./DataSave/nodeTypeList.pkl','wb') as fw:\n",
    "    pickle.dump(nodeTypeList,fw)"
   ]
  },
  {
   "cell_type": "markdown",
   "metadata": {
    "pycharm": {
     "name": "#%% md\n"
    }
   },
   "source": [
    "#### 确定商家位置与订单顾客位置"
   ]
  },
  {
   "cell_type": "code",
   "execution_count": null,
   "outputs": [],
   "source": [
    "# 一天大概3万单，生成一个月的订单约100万。\n",
    "# 对于每个订单，需要考虑两个问题，它产生在哪里，它又被送到了哪里\n",
    "# 对于每个区域的订单，如果派单范围内没有人接收，它将被取消，如果范围内有人，那它一定要被派出去。\n",
    "# 骑手被派到居民区或郊区如果没有单会自动形成一条去CBD或商业区的路，去最近的CBD或者商业区。"
   ],
   "metadata": {
    "collapsed": false,
    "pycharm": {
     "name": "#%%\n"
    }
   }
  },
  {
   "cell_type": "code",
   "execution_count": null,
   "outputs": [],
   "source": [
    "# 订单：CBD区 45% 商业区 40% 居民区 10%  郊区：5%\n",
    "# 送达：CBD区 30% 商业区 10%  居民区：50% 郊区：10%"
   ],
   "metadata": {
    "collapsed": false,
    "pycharm": {
     "name": "#%%\n"
    }
   }
  },
  {
   "cell_type": "code",
   "execution_count": null,
   "outputs": [],
   "source": [
    "nodeTypeMatrix = open('./DataSave/nodeTypeMatrix.pkl','rb')\n",
    "nodeTypeMatrix = pickle.load(nodeTypeMatrix)"
   ],
   "metadata": {
    "collapsed": false,
    "pycharm": {
     "name": "#%%\n"
    }
   }
  },
  {
   "cell_type": "code",
   "execution_count": null,
   "outputs": [],
   "source": [
    "nodeTypeList = open('./DataSave/nodeTypeList.pkl','rb')\n",
    "nodeTypeList = pickle.load(nodeTypeList)"
   ],
   "metadata": {
    "collapsed": false,
    "pycharm": {
     "name": "#%%\n"
    }
   }
  },
  {
   "cell_type": "code",
   "execution_count": null,
   "outputs": [],
   "source": [
    "# 用概率来解决问题\n",
    "# 每一个订单产生，它的商家在哪里，它的顾客又在哪里，这两者离多远？\n",
    "# 如何确定订单产生的商家？40% 40% 15% 5% 产生概率，然后在内部进行随机平均产生\n",
    "# 如何确定订单配送的位置？35% 10% 50% 5% 但距离会对订单配送位置产生影响，距离<5 45%  5<x<10  45%   >10 10%\n",
    "# 所以需要给每一个node记录，记录node距离它的四种类型的[]"
   ],
   "metadata": {
    "collapsed": false,
    "pycharm": {
     "name": "#%%\n"
    }
   }
  },
  {
   "cell_type": "code",
   "execution_count": null,
   "outputs": [],
   "source": [
    "nodeTypeMatrix = np.array(nodeTypeMatrix)"
   ],
   "metadata": {
    "collapsed": false,
    "pycharm": {
     "name": "#%%\n"
    }
   }
  },
  {
   "cell_type": "code",
   "execution_count": null,
   "outputs": [],
   "source": [
    "# 3 郊区  2 居民区  1 消费区  0 CBD"
   ],
   "metadata": {
    "collapsed": false,
    "pycharm": {
     "name": "#%%\n"
    }
   }
  },
  {
   "cell_type": "code",
   "execution_count": null,
   "outputs": [],
   "source": [
    "nodeTypeMatrix"
   ],
   "metadata": {
    "collapsed": false,
    "pycharm": {
     "name": "#%%\n"
    }
   }
  },
  {
   "cell_type": "code",
   "execution_count": null,
   "outputs": [],
   "source": [
    "class Node:\n",
    "    def __init__(self,num,x,y):\n",
    "        self.nodeType = num\n",
    "        self.nodeNum = y + 10 * x\n",
    "        self.nodeCoord = (x,y)\n",
    "        self.fiveNode= []\n",
    "        self.tenNode = []\n",
    "        self.moreTenNode = []\n",
    "    \n",
    "    def nodePrint(self):\n",
    "        print('结点种类:'+ str(self.nodeType))\n",
    "        print('结点编号:' + str(self.nodeNum))\n",
    "        print('结点坐标:' + str(self.nodeCoord))"
   ],
   "metadata": {
    "collapsed": false,
    "pycharm": {
     "name": "#%%\n"
    }
   }
  },
  {
   "cell_type": "code",
   "execution_count": null,
   "outputs": [],
   "source": [
    "nodeList = []\n",
    "for i in range(20):\n",
    "    for j in range(20):\n",
    "        node = Node(nodeTypeMatrix[i,j],i,j)\n",
    "        nodeList.append(node)\n",
    "nodeMatrix = np.array(nodeList).reshape(20,20)"
   ],
   "metadata": {
    "collapsed": false,
    "pycharm": {
     "name": "#%%\n"
    }
   }
  },
  {
   "cell_type": "code",
   "execution_count": null,
   "outputs": [],
   "source": [
    "# 距离计算函数"
   ],
   "metadata": {
    "collapsed": false,
    "pycharm": {
     "name": "#%%\n"
    }
   }
  },
  {
   "cell_type": "code",
   "execution_count": 33,
   "metadata": {},
   "outputs": [],
   "source": []
  },
  {
   "cell_type": "code",
   "execution_count": 34,
   "metadata": {},
   "outputs": [],
   "source": [
    "# 订单：CBD区 45% 商业区 40% 居民区 10%  郊区：5%\n",
    "# 送达：CBD区 30% 商业区 10%  居民区：50% 郊区：10%"
   ]
  },
  {
   "cell_type": "code",
   "execution_count": 42,
   "metadata": {},
   "outputs": [],
   "source": [
    "nodeTypeMatrix = open('./DataSave/nodeTypeMatrix.pkl','rb')\n",
    "nodeTypeMatrix = pickle.load(nodeTypeMatrix)"
   ]
  },
  {
   "cell_type": "code",
   "execution_count": 43,
   "metadata": {},
   "outputs": [],
   "source": [
    "nodeTypeList = open('./DataSave/nodeTypeList.pkl','rb')\n",
    "nodeTypeList = pickle.load(nodeTypeList)"
   ]
  },
  {
   "cell_type": "code",
   "execution_count": 37,
   "metadata": {},
   "outputs": [],
   "source": [
    "# 用概率来解决问题\n",
    "# 每一个订单产生，它的商家在哪里，它的顾客又在哪里，这两者离多远？\n",
    "# 如何确定订单产生的商家？40% 40% 15% 5% 产生概率，然后在内部进行随机平均产生\n",
    "# 如何确定订单配送的位置？35% 10% 50% 5% 但距离会对订单配送位置产生影响，距离<5 45%  5<x<10  45%   >10 10%\n",
    "# 所以需要给每一个node记录，记录node距离它的四种类型的[]"
   ]
  },
  {
   "cell_type": "code",
   "execution_count": 45,
   "metadata": {},
   "outputs": [],
   "source": [
    "nodeTypeMatrix = np.array(nodeTypeMatrix)"
   ]
  },
  {
   "cell_type": "code",
   "execution_count": null,
   "metadata": {},
   "outputs": [],
   "source": [
    "# 3 郊区  2 居民区  1 消费区  0 CBD"
   ]
  },
  {
   "cell_type": "code",
   "execution_count": 67,
   "metadata": {},
   "outputs": [
    {
     "data": {
      "text/plain": [
       "array([[3, 3, 3, 3, 3, 1, 2, 3, 2, 3, 2, 3, 2, 3, 3, 3, 3, 2, 3, 3],\n",
       "       [3, 3, 2, 3, 3, 3, 3, 2, 3, 1, 3, 3, 3, 3, 3, 0, 3, 3, 3, 3],\n",
       "       [3, 1, 3, 3, 3, 3, 3, 2, 3, 0, 3, 3, 3, 3, 3, 3, 3, 2, 3, 2],\n",
       "       [2, 3, 3, 3, 3, 3, 3, 2, 3, 3, 3, 3, 1, 0, 3, 3, 3, 3, 2, 3],\n",
       "       [3, 3, 2, 3, 3, 2, 3, 3, 3, 3, 3, 2, 3, 3, 3, 2, 0, 3, 1, 1],\n",
       "       [1, 3, 3, 3, 3, 3, 3, 2, 3, 3, 2, 3, 3, 0, 3, 1, 3, 3, 1, 3],\n",
       "       [3, 2, 3, 0, 3, 3, 2, 0, 3, 3, 1, 1, 3, 3, 3, 3, 3, 3, 2, 2],\n",
       "       [3, 3, 2, 3, 3, 3, 1, 3, 1, 2, 3, 3, 2, 3, 3, 3, 2, 2, 3, 1],\n",
       "       [2, 0, 3, 3, 3, 3, 2, 0, 3, 3, 2, 2, 3, 3, 2, 1, 3, 3, 2, 1],\n",
       "       [2, 3, 3, 3, 1, 3, 1, 2, 3, 2, 3, 3, 3, 3, 3, 2, 2, 0, 0, 0],\n",
       "       [3, 3, 0, 0, 3, 0, 2, 2, 2, 3, 1, 2, 1, 1, 1, 3, 3, 3, 3, 3],\n",
       "       [3, 3, 3, 2, 3, 3, 3, 0, 0, 2, 3, 0, 2, 2, 1, 3, 3, 2, 0, 3],\n",
       "       [3, 3, 2, 1, 3, 2, 3, 3, 1, 1, 0, 1, 1, 2, 2, 1, 3, 2, 3, 3],\n",
       "       [2, 3, 2, 3, 3, 1, 2, 3, 2, 3, 2, 2, 2, 2, 0, 3, 3, 0, 2, 3],\n",
       "       [2, 2, 1, 3, 3, 3, 3, 3, 3, 3, 2, 0, 2, 2, 1, 3, 3, 2, 3, 3],\n",
       "       [3, 0, 2, 2, 3, 1, 0, 2, 2, 2, 3, 3, 3, 3, 3, 3, 1, 3, 3, 3],\n",
       "       [3, 3, 3, 3, 2, 3, 2, 1, 1, 1, 3, 2, 2, 3, 3, 2, 3, 0, 3, 2],\n",
       "       [3, 3, 3, 3, 3, 3, 3, 3, 1, 3, 3, 2, 3, 1, 2, 2, 2, 1, 3, 3],\n",
       "       [3, 1, 2, 1, 3, 2, 3, 0, 3, 3, 3, 3, 3, 3, 3, 2, 3, 0, 3, 2],\n",
       "       [3, 2, 3, 3, 3, 3, 3, 2, 3, 3, 2, 0, 1, 3, 1, 2, 3, 3, 3, 3]])"
      ]
     },
     "execution_count": 67,
     "metadata": {},
     "output_type": "execute_result"
    }
   ],
   "source": [
    "nodeTypeMatrix"
   ]
  },
  {
   "cell_type": "code",
   "execution_count": 68,
   "metadata": {},
   "outputs": [],
   "source": [
    "class Node:\n",
    "    def __init__(self,num,x,y):\n",
    "        self.nodeType = num\n",
    "        self.nodeNum = y + 10 * x\n",
    "        self.nodeCoord = (x,y)\n",
    "        self.fiveNode= []\n",
    "        self.tenNode = []\n",
    "        self.moreTenNode = []\n",
    "    \n",
    "    def nodePrint(self):\n",
    "        print('结点种类:'+ str(self.nodeType))\n",
    "        print('结点编号:' + str(self.nodeNum))\n",
    "        print('结点坐标:' + str(self.nodeCoord))"
   ]
  },
  {
   "cell_type": "code",
   "execution_count": 69,
   "metadata": {},
   "outputs": [],
   "source": [
    "nodeList = []\n",
    "for i in range(20):\n",
    "    for j in range(20):\n",
    "        node = Node(nodeTypeMatrix[i,j],i,j)\n",
    "        nodeList.append(node)\n",
    "nodeMatrix = np.array(nodeList).reshape(20,20)"
   ]
  },
  {
   "cell_type": "code",
   "execution_count": null,
   "metadata": {},
   "outputs": [],
   "source": [
    "# 距离计算函数"
   ]
  },
  {
   "cell_type": "code",
   "execution_count": null,
   "metadata": {},
   "outputs": [],
   "source": []
  }
 ],
 "metadata": {
  "kernelspec": {
   "display_name": "Python [conda env:pytorch18]",
   "language": "python",
   "name": "conda-env-pytorch18-py"
  },
  "language_info": {
   "codemirror_mode": {
    "name": "ipython",
    "version": 3
   },
   "file_extension": ".py",
   "mimetype": "text/x-python",
   "name": "python",
   "nbconvert_exporter": "python",
   "pygments_lexer": "ipython3",
   "version": "3.7.10"
  }
 },
 "nbformat": 4,
 "nbformat_minor": 2
}