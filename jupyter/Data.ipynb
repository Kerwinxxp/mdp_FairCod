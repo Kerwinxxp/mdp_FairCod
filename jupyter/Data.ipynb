{
 "cells": [
  {
   "cell_type": "code",
   "execution_count": null,
   "outputs": [],
   "source": [
    "# 设计一些toy data example去支撑我们的设计\n",
    "# ①假设一：使用方形网格设计（后续可以改成六边形，其实也不一定有必要）\n",
    "# ② 假设二：区域设定为6公里 × 6公里，设定一个合理的骑手速度，骑手量与订单量（骑手量和订单量可以作为变量调节）\n",
    "# ③ 假设三：区域6km × 6km，网格300m × 300m，形成一个20 × 20 = 400的网格区域，纬度为30.70 -- 30.76,经度121.10--121.16，\n",
    "#一个小区域0.0005 × 0.0005，比如30.70 --30.703,121.10 -- 121.103。即0.06为6km，0.003为300m。\n",
    "# ④ 假设四：骑手速度：12.11km/h,200m/min。这样跑一个对角需要42min，差不多。"
   ],
   "metadata": {
    "collapsed": false,
    "pycharm": {
     "name": "#%%\n"
    }
   }
  },
  {
   "cell_type": "markdown",
   "source": [
    "### 丁一学长给的经纬度对应关系\n",
    "#  dd"
   ],
   "metadata": {
    "collapsed": false
   }
  },
  {
   "cell_type": "code",
   "execution_count": null,
   "outputs": [],
   "source": [
    "# The following is the lat/lon area I used to cover Shanghai.\n",
    "# AND latitude > 30.7 AND latitude < 31.5\n",
    "# AND longitude > 121.1 AND longitude < 121.9\n",
    "\n",
    "# The following is the mapping between grid ID and lat/lon.\n",
    "# ((FLOOR(t1.latitude*100)-3070)*80+(FLOOR(t1.longitude*100)-12110)) AS grid_id"
   ],
   "metadata": {
    "collapsed": false,
    "pycharm": {
     "name": "#%%\n"
    }
   }
  },
  {
   "cell_type": "markdown",
   "source": [
    "### 头文件区"
   ],
   "metadata": {
    "collapsed": false
   }
  },
  {
   "cell_type": "code",
   "execution_count": null,
   "outputs": [],
   "source": [
    "from math import sin, asin, cos, radians, fabs, sqrt\n",
    "EARTH_RADIUS = 6371  # 地球平均半径，6371km\n",
    "import pandas as pd\n",
    "import numpy as np\n",
    "import matplotlib.pyplot as plt\n",
    "import pickle\n",
    "import random"
   ],
   "metadata": {
    "collapsed": false,
    "pycharm": {
     "name": "#%%\n"
    }
   }
  },
  {
   "cell_type": "markdown",
   "source": [
    "### 函数区"
   ],
   "metadata": {
    "collapsed": false
   }
  },
  {
   "cell_type": "code",
   "execution_count": null,
   "outputs": [],
   "source": [
    "def hav(theta):\n",
    "    s = sin(theta / 2)\n",
    "    return s * s\n",
    "\n",
    "\n",
    "def get_distance_hav(lat0, lng0, lat1, lng1):\n",
    "    \"\"\"\n",
    "     用haversine公式计算球面两点间的距离\n",
    "    \"\"\"\n",
    "    # 经纬度转换成弧度\n",
    "    lat0 = radians(lat0)\n",
    "    lat1 = radians(lat1)\n",
    "    lng0 = radians(lng0)\n",
    "    lng1 = radians(lng1)\n",
    "\n",
    "    dlng = fabs(lng0 - lng1)\n",
    "    dlat = fabs(lat0 - lat1)\n",
    "    h = hav(dlat) + cos(lat0) * cos(lat1) * hav(dlng)\n",
    "    distance = 2 * EARTH_RADIUS * asin(sqrt(h))\n",
    "\n",
    "    return round(distance * 1000)"
   ],
   "metadata": {
    "collapsed": false,
    "pycharm": {
     "name": "#%%\n"
    }
   }
  },
  {
   "cell_type": "code",
   "execution_count": null,
   "outputs": [],
   "source": [
    "get_distance_hav(30.70,121.10,30.703,121.10)"
   ],
   "metadata": {
    "collapsed": false,
    "pycharm": {
     "name": "#%%\n"
    }
   }
  },
  {
   "cell_type": "markdown",
   "source": [
    " ### 确定有多少家商家，多少个骑手，多少个订单"
   ],
   "metadata": {
    "collapsed": false
   }
  },
  {
   "cell_type": "code",
   "execution_count": null,
   "outputs": [],
   "source": [
    "# 区域: latitude:30.70--30.76    longitude: 121.10 -- 121.16    6000m 300m  200m/min"
   ],
   "metadata": {
    "collapsed": false,
    "pycharm": {
     "name": "#%%\n"
    }
   }
  },
  {
   "cell_type": "code",
   "execution_count": null,
   "outputs": [],
   "source": [
    "# 将区域分为四个部分：高商高顾（CBD），高商低顾（商业区），低商高顾（居民区），低商低顾（郊区）"
   ],
   "metadata": {
    "collapsed": false,
    "pycharm": {
     "name": "#%%\n"
    }
   }
  },
  {
   "cell_type": "code",
   "execution_count": null,
   "outputs": [],
   "source": [
    "# 派单区域按照网格来算，每五分钟更新骑手所在的位置和所在的网格，如果骑手在更新时还没有收到新订单，他会前往最近的CBD区和商业区。"
   ],
   "metadata": {
    "collapsed": false,
    "pycharm": {
     "name": "#%%\n"
    }
   }
  },
  {
   "cell_type": "code",
   "execution_count": null,
   "outputs": [],
   "source": [
    "# 每五分钟派一次单，即每五分钟更新一次骑手的状态，骑手的状态分为三种(配送中，等待中，回程中)，\n",
    "#配送中会记录处在哪个区域内，还有多久离开这个区域，下一个区域名称。\n",
    "# 等待中会记录处在哪个区域中，还有多少等待时间。\n",
    "# 回程中会记录处在哪个区域内，还有多久离开这个区域，下一个区域名称。\n",
    "# 骑手前往临近区域只有两种，直行/斜行，直行300m花费1.5min，斜行400m花费2min。\n",
    "# 骑手会记录一个路径，在派单的过程中会持续记录路径"
   ],
   "metadata": {
    "collapsed": false,
    "pycharm": {
     "name": "#%%\n"
    }
   }
  },
  {
   "cell_type": "code",
   "execution_count": null,
   "outputs": [],
   "source": [
    "# 29个CBD，44个商业区，91个居民区，236个郊区。\n",
    "# 400个区域，293个商家，1000个骑手，n个订单（订单平均长度3500m，每个骑手每小时一定能处理3单）"
   ],
   "metadata": {
    "collapsed": false,
    "pycharm": {
     "name": "#%%\n"
    }
   }
  },
  {
   "cell_type": "markdown",
   "source": [
    "#### 确定每个区域的类型"
   ],
   "metadata": {
    "collapsed": false
   }
  },
  {
   "cell_type": "code",
   "execution_count": null,
   "outputs": [],
   "source": [
    "# 区域的编号为：x + 20*y  (x,y都是0-19)"
   ],
   "metadata": {
    "collapsed": false,
    "pycharm": {
     "name": "#%%\n"
    }
   }
  },
  {
   "cell_type": "code",
   "execution_count": null,
   "outputs": [],
   "source": [
    "# 0 1 1 2\n",
    "# 2 2 1 3\n",
    "# 2 3 4 2\n",
    "# 1 2 1 2\n",
    "CBDList = []\n",
    "# 1 2 1 2\n",
    "# 2 3 2 5\n",
    "# 2 3 8 1\n",
    "# 2 5 3 2\n",
    "commerceList = []\n",
    "# 3 6 3 5\n",
    "# 4 6 5 7\n",
    "# 6 7 12 4\n",
    "# 5 6 5 7\n",
    "residentList = []\n",
    "# 22 16 20 16 \n",
    "# 17 14 17 10\n",
    "# 15 12 1 18\n",
    "# 17 12 16 14\n",
    "suburbList = []"
   ],
   "metadata": {
    "collapsed": false,
    "pycharm": {
     "name": "#%%\n"
    }
   }
  },
  {
   "cell_type": "code",
   "execution_count": null,
   "outputs": [],
   "source": [
    "CBDNumList =      [ 0, 1, 1, 2, 2, 2, 1, 3, 2, 3, 4, 2, 1, 2, 1, 2]\n",
    "commerceNumList = [ 1, 2, 1, 2, 2, 3, 2, 5, 2, 3, 8, 1, 2, 5, 3, 2]\n",
    "residentNumList = [ 3, 6, 3, 5, 4, 6, 5, 7, 6, 7,12, 4, 5, 6, 5, 7]\n",
    "suburbNumList =   [21,16,20,16,17,14,17,10,15,12, 1,18,17,12,16,14]\n",
    "numList = [CBDNumList,commerceNumList,residentNumList,suburbNumList]"
   ],
   "metadata": {
    "collapsed": false,
    "pycharm": {
     "name": "#%%\n"
    }
   }
  },
  {
   "cell_type": "code",
   "execution_count": null,
   "outputs": [],
   "source": [
    "import random\n",
    "fourDistrictType = [30,44,85,241]\n",
    "nodeList = []\n",
    "for x in range(4):\n",
    "    for y in range(4):\n",
    "        xList = list(range(x*5,x*5+5))\n",
    "        yList = list(range(y*5,y*5+5))\n",
    "        nodeDistrictList = []\n",
    "        for nodex in xList:\n",
    "            for nodey in yList:\n",
    "                nodeDistrictList.append(nodex * 20 + nodey)\n",
    "        nodeDistrictList = list(sorted(nodeDistrictList))\n",
    "        nodeList.append(nodeDistrictList)\n",
    "        \n",
    "nodeTypeList = []  # 有四个子list，分别装四个区域对应的node编号\n",
    "\n",
    "for i in range(4):\n",
    "    districtNumList = numList[i] # 每种类型在小区域内的数\n",
    "    tempNodeList = [] # 记录更新后的node\n",
    "    tempNodeTypeList = [] # 记录单个区域对应的node编号\n",
    "    for j in range(16):\n",
    "        districtNumTypeList = random.sample(nodeList[j],districtNumList[j]) # 从nodelist中随机选择一些数\n",
    "        tempNode = []\n",
    "        for node in nodeList[j]:\n",
    "            if node not in districtNumTypeList:\n",
    "                tempNode.append(node)\n",
    "        tempNodeList.append(tempNode) # 更新后的nodelist\n",
    "        tempNodeTypeList.append(districtNumTypeList)\n",
    "    nodeList = tempNodeList\n",
    "    tempNodeTypeList = [x for y in tempNodeTypeList for x in y]\n",
    "    tempNodeTypeList = sorted(tempNodeTypeList)\n",
    "    nodeTypeList.append(tempNodeTypeList)"
   ],
   "metadata": {
    "collapsed": false,
    "pycharm": {
     "name": "#%%\n"
    }
   }
  },
  {
   "cell_type": "code",
   "execution_count": null,
   "outputs": [],
   "source": [
    "# nodelist 包含16个小区域的编号\n",
    "# numList 为每种类型在16个小区域内的数\n",
    "# nodeTypeList 包含每种类型的编号"
   ],
   "metadata": {
    "collapsed": false,
    "pycharm": {
     "name": "#%%\n"
    }
   }
  },
  {
   "cell_type": "code",
   "execution_count": null,
   "outputs": [],
   "source": [
    "# 将网格内的区域进行可视化"
   ],
   "metadata": {
    "collapsed": false,
    "pycharm": {
     "name": "#%%\n"
    }
   }
  },
  {
   "cell_type": "code",
   "execution_count": null,
   "outputs": [],
   "source": [
    "# 将nodeTypeList转化成0-1矩阵的形式"
   ],
   "metadata": {
    "collapsed": false,
    "pycharm": {
     "name": "#%%\n"
    }
   }
  },
  {
   "cell_type": "code",
   "execution_count": null,
   "outputs": [],
   "source": [
    "nodeTypeMatrix = [0] * 400\n",
    "for i in range(4):\n",
    "    for num in nodeTypeList[i]:\n",
    "        nodeTypeMatrix[num] = i\n",
    "nodeTypeMatrix = np.array(nodeTypeMatrix).reshape(20,20)"
   ],
   "metadata": {
    "collapsed": false,
    "pycharm": {
     "name": "#%%\n"
    }
   }
  },
  {
   "cell_type": "code",
   "execution_count": null,
   "outputs": [],
   "source": [
    "nodeTypeMatrix = list(nodeTypeMatrix)"
   ],
   "metadata": {
    "collapsed": false,
    "pycharm": {
     "name": "#%%\n"
    }
   }
  },
  {
   "cell_type": "code",
   "execution_count": null,
   "outputs": [],
   "source": [
    "# 紫色为CBD区，高merchant高customer\n",
    "# 蓝色为饮食区，高merchant低customer\n",
    "# 绿色为居民区，低merchant高customer\n",
    "# 黄色为郊区，低merchant低customer"
   ],
   "metadata": {
    "collapsed": false,
    "pycharm": {
     "name": "#%%\n"
    }
   }
  },
  {
   "cell_type": "code",
   "execution_count": null,
   "outputs": [],
   "source": [
    "plt.figure(figsize = (12,12))\n",
    "plt.yticks(np.arange(-0.5,20.5,1),np.arange(0,21,1))\n",
    "plt.xticks(np.arange(-0.5,20.5,1),np.arange(0,21,1))\n",
    "plt.grid(True)\n",
    "plt.imshow(nodeTypeMatrix)\n",
    "# plt.savefig('./DataSave/nodeTypePicture.png')"
   ],
   "metadata": {
    "collapsed": false,
    "pycharm": {
     "name": "#%%\n"
    }
   }
  },
  {
   "cell_type": "code",
   "execution_count": null,
   "outputs": [],
   "source": [
    "# with open('./DataSave/nodeTypeMatrix.pkl','wb') as fw:\n",
    "#    pickle.dump(nodeTypeMatrix,fw)"
   ],
   "metadata": {
    "collapsed": false,
    "pycharm": {
     "name": "#%%\n"
    }
   }
  },
  {
   "cell_type": "code",
   "execution_count": null,
   "outputs": [],
   "source": [
    "# with open('./DataSave/nodeTypeList.pkl','wb') as fw:\n",
    "#   pickle.dump(nodeTypeList,fw)"
   ],
   "metadata": {
    "collapsed": false,
    "pycharm": {
     "name": "#%%\n"
    }
   }
  },
  {
   "cell_type": "markdown",
   "source": [
    "#### 确定商家位置与订单顾客位置"
   ],
   "metadata": {
    "collapsed": false
   }
  },
  {
   "cell_type": "code",
   "execution_count": null,
   "outputs": [],
   "source": [
    "# 一天大概3万单，生成一个月的订单约100万。\n",
    "# 对于每个订单，需要考虑两个问题，它产生在哪里，它又被送到了哪里\n",
    "# 对于每个区域的订单，如果派单范围内没有人接收，它将被取消，如果范围内有人，那它一定要被派出去。\n",
    "# 骑手被派到居民区或郊区如果没有单会自动形成一条去CBD或商业区的路，去最近的CBD或者商业区。"
   ],
   "metadata": {
    "collapsed": false,
    "pycharm": {
     "name": "#%%\n"
    }
   }
  },
  {
   "cell_type": "code",
   "execution_count": null,
   "outputs": [],
   "source": [
    "# 订单：CBD区 45% 商业区 40% 居民区 10%  郊区：5%\n",
    "# 送达：CBD区 30% 商业区 10%  居民区：50% 郊区：10%"
   ],
   "metadata": {
    "collapsed": false,
    "pycharm": {
     "name": "#%%\n"
    }
   }
  },
  {
   "cell_type": "code",
   "execution_count": null,
   "outputs": [],
   "source": [
    "#nodeTypeMatrix = open('./DataSave/nodeTypeMatrix.pkl','rb')\n",
    "#nodeTypeMatrix = pickle.load(nodeTypeMatrix)"
   ],
   "metadata": {
    "collapsed": false,
    "pycharm": {
     "name": "#%%\n"
    }
   }
  },
  {
   "cell_type": "code",
   "execution_count": null,
   "outputs": [],
   "source": [
    "#nodeTypeList = open('./DataSave/nodeTypeList.pkl','rb')\n",
    "#nodeTypeList = pickle.load(nodeTypeList)"
   ],
   "metadata": {
    "collapsed": false,
    "pycharm": {
     "name": "#%%\n"
    }
   }
  },
  {
   "cell_type": "code",
   "execution_count": null,
   "outputs": [],
   "source": [
    "# 用概率来解决问题\n",
    "# 每一个订单产生，它的商家在哪里，它的顾客又在哪里，这两者离多远？\n",
    "# 如何确定订单产生的商家？40% 40% 15% 5% 产生概率，然后在内部进行随机平均产生\n",
    "# 如何确定订单配送的位置？35% 10% 50% 5% 但距离会对订单配送位置产生影响，距离<5 45%  5<x<10  45%   >10 10%\n",
    "# 所以需要给每一个node记录，记录node距离它的四种类型的[]"
   ],
   "metadata": {
    "collapsed": false,
    "pycharm": {
     "name": "#%%\n"
    }
   }
  },
  {
   "cell_type": "code",
   "execution_count": null,
   "outputs": [],
   "source": [
    "nodeTypeMatrix = np.array(nodeTypeMatrix)"
   ],
   "metadata": {
    "collapsed": false,
    "pycharm": {
     "name": "#%%\n"
    }
   }
  },
  {
   "cell_type": "code",
   "execution_count": null,
   "outputs": [],
   "source": [
    "# 3 郊区  2 居民区  1 消费区  0 CBD"
   ],
   "metadata": {
    "collapsed": false,
    "pycharm": {
     "name": "#%%\n"
    }
   }
  },
  {
   "cell_type": "code",
   "execution_count": null,
   "outputs": [],
   "source": [
    "nodeTypeMatrix"
   ],
   "metadata": {
    "collapsed": false,
    "pycharm": {
     "name": "#%%\n"
    }
   }
  },
  {
   "cell_type": "code",
   "execution_count": null,
   "outputs": [],
   "source": [
    "class Node:\n",
    "    def __init__(self,num,x,y):\n",
    "        self.nodeType = num\n",
    "        self.nodeNum = y + 20 * x\n",
    "        self.nodeCoord = (x,y)\n",
    "        self.sixNode= [[],[],[],[]]  # 距离Node小于等于6的节点距离(4,3) 30%\n",
    "        self.twelveNode = [[],[],[],[]]  # 距离Node距离大于6小于等于12的节点距离(8,6) 40%\n",
    "        self.moreNode = [[],[],[],[]] # 距离Node距离大于12的节点距离 30%\n",
    "    \n",
    "    def nodePrint(self):\n",
    "        print('结点坐标:' + str(self.nodeCoord))"
   ],
   "metadata": {
    "collapsed": false,
    "pycharm": {
     "name": "#%%\n"
    }
   }
  },
  {
   "cell_type": "code",
   "execution_count": null,
   "outputs": [],
   "source": [
    "nodeList = []\n",
    "for i in range(20):\n",
    "    for j in range(20):\n",
    "        node = Node(nodeTypeMatrix[i,j],i,j)\n",
    "        nodeList.append(node)\n",
    "nodeMatrix = np.array(nodeList).reshape(20,20)"
   ],
   "metadata": {
    "collapsed": false,
    "pycharm": {
     "name": "#%%\n"
    }
   }
  },
  {
   "cell_type": "code",
   "execution_count": null,
   "outputs": [],
   "source": [
    "# 距离计算函数\n",
    "# 返回路径函数"
   ],
   "metadata": {
    "collapsed": false,
    "pycharm": {
     "name": "#%%\n"
    }
   }
  },
  {
   "cell_type": "code",
   "execution_count": null,
   "outputs": [],
   "source": [
    "# 骑手速度：200m/min\n",
    "# 1格距离：300m, 1.5min\n",
    "# 2格距离：2min\n",
    "# 骑手只能选择走周围八个格子\n",
    "\n",
    "def count_distance(coordone,coordtwo):\n",
    "    (x1,y1) = coordone  \n",
    "    (x2,y2) = coordtwo\n",
    "    x = abs(x1-x2)\n",
    "    y = abs(y1-y2)\n",
    "    return 1.5 * (max(x,y) - min(x,y)) + 2 * min(x,y)"
   ],
   "metadata": {
    "collapsed": false,
    "pycharm": {
     "name": "#%%\n"
    }
   }
  },
  {
   "cell_type": "code",
   "execution_count": null,
   "outputs": [],
   "source": [
    "# 遍历每一个节点，记录三个区域的四种状态"
   ],
   "metadata": {
    "collapsed": false,
    "pycharm": {
     "name": "#%%\n"
    }
   }
  },
  {
   "cell_type": "code",
   "execution_count": null,
   "outputs": [],
   "source": [
    "for i in range(20):\n",
    "    for j in range(20):\n",
    "        # 遍历每个节点，给每个节点分配对应的节点信息\n",
    "        oriNode = nodeMatrix[i][j]  # 需要考虑的节点\n",
    "        for k in range(400):\n",
    "            x_cor = int(k/20)\n",
    "            y_cor = int(k%20)\n",
    "            testNode = nodeMatrix[x_cor,y_cor]  # 每一个测试的节点\n",
    "            testNodeType = testNode.nodeType\n",
    "            distance = count_distance(oriNode.nodeCoord,testNode.nodeCoord)\n",
    "            if distance <= 6:\n",
    "                oriNode.sixNode[testNodeType].append(testNode)\n",
    "            elif distance > 6 and distance <= 12:\n",
    "                oriNode.twelveNode[testNodeType].append(testNode)\n",
    "            else:\n",
    "                oriNode.moreNode[testNodeType].append(testNode)"
   ],
   "metadata": {
    "collapsed": false,
    "pycharm": {
     "name": "#%%\n"
    }
   }
  },
  {
   "cell_type": "code",
   "execution_count": null,
   "outputs": [],
   "source": [
    "# 按概率生成订单，并生成送达的目的地(时间+起终点)\n",
    "# 三十天订单，每天确定一个波动值的量，然后一天从早上8点到晚上10点将一天分为180个时段，每个时段5min，每个时段有一个基数进行波动\n",
    "# 每天大约产生15000~25000订单，订单会有一个上升的波动"
   ],
   "metadata": {
    "collapsed": false,
    "pycharm": {
     "name": "#%%\n"
    }
   }
  },
  {
   "cell_type": "code",
   "execution_count": null,
   "outputs": [],
   "source": [
    "testData = pd.read_csv('../2020-10-12中环数据.csv')"
   ],
   "metadata": {
    "collapsed": false,
    "pycharm": {
     "name": "#%%\n"
    }
   }
  },
  {
   "cell_type": "code",
   "execution_count": null,
   "outputs": [],
   "source": [
    "Time = pd.DataFrame(testData['order_create_time'])\n",
    "Time['order_create_time'] = pd.to_datetime(Time['order_create_time'],format = '%Y/%m/%d %H:%M')\n",
    "Time['hour'] = Time['order_create_time'].apply(lambda x:x.hour)"
   ],
   "metadata": {
    "collapsed": false,
    "pycharm": {
     "name": "#%%\n"
    }
   }
  },
  {
   "cell_type": "code",
   "execution_count": null,
   "outputs": [],
   "source": [
    "Time.hour.value_counts()"
   ],
   "metadata": {
    "collapsed": false,
    "pycharm": {
     "name": "#%%\n"
    }
   }
  },
  {
   "cell_type": "code",
   "execution_count": null,
   "outputs": [],
   "source": [
    "numlist = [1551,1799,5528,13402,6512,3302,2243,1844,2054,2948,2976,2101,1428,990,772]"
   ],
   "metadata": {
    "collapsed": false,
    "pycharm": {
     "name": "#%%\n"
    }
   }
  },
  {
   "cell_type": "code",
   "execution_count": null,
   "outputs": [],
   "source": [
    "sumnumlist = sum(numlist)\n",
    "perlist = [0] * len(numlist)\n",
    "for i in range(len(numlist)):\n",
    "    perlist[i] = round(numlist[i]/sumnumlist,4)"
   ],
   "metadata": {
    "collapsed": false,
    "pycharm": {
     "name": "#%%\n"
    }
   }
  },
  {
   "cell_type": "code",
   "execution_count": null,
   "outputs": [],
   "source": [
    "perlist"
   ],
   "metadata": {
    "collapsed": false,
    "pycharm": {
     "name": "#%%\n"
    }
   }
  },
  {
   "cell_type": "code",
   "execution_count": null,
   "outputs": [],
   "source": [
    "# 30天为20000单上下30%波动"
   ],
   "metadata": {
    "collapsed": false,
    "pycharm": {
     "name": "#%%\n"
    }
   }
  },
  {
   "cell_type": "code",
   "execution_count": null,
   "outputs": [],
   "source": [
    "origindaynumlist = []\n",
    "for i in range(30):\n",
    "    num = round(20000 * (1 + (random.random()* 0.6 - 0.3)))\n",
    "    origindaynumlist.append(num)"
   ],
   "metadata": {
    "collapsed": false,
    "pycharm": {
     "name": "#%%\n"
    }
   }
  },
  {
   "cell_type": "code",
   "execution_count": null,
   "outputs": [],
   "source": [
    "origindaynumlist"
   ],
   "metadata": {
    "collapsed": false,
    "pycharm": {
     "name": "#%%\n"
    }
   }
  },
  {
   "cell_type": "code",
   "execution_count": null,
   "outputs": [],
   "source": [
    "#对于一天的订单量要将它们分摊到180个时间段内，且需要有一定的波动性(先分15个，再分12个)"
   ],
   "metadata": {
    "collapsed": false,
    "pycharm": {
     "name": "#%%\n"
    }
   }
  },
  {
   "cell_type": "code",
   "execution_count": null,
   "outputs": [],
   "source": [
    "wholenumlist=[] # 30 + 15 + 12\n",
    "for i in range(30):\n",
    "    originlist = [per*origindaynumlist[i] for per in perlist]\n",
    "    originlist = [round(originnum) for originnum in originlist]  # 每天原始的每小时的订单，由真实数据概率生成\n",
    "    daynumlist = []\n",
    "    for j in range(15):\n",
    "        originlist[j] = round(originlist[j] * (random.random() * 0.2 + 0.9))\n",
    "        slotnumlist = []\n",
    "        # 特殊考虑时间段一：10-13\n",
    "        # 特殊考虑时间段二：16-19\n",
    "        # 剩下时间点保持不变\n",
    "        if j == 2:\n",
    "            wholenum = originlist[2] + originlist[3] + originlist[4] + originlist[5]\n",
    "            beginnum = (originlist[1] * 0.08)\n",
    "            endnum = (originlist[6] * 0.08) \n",
    "            highnum = (wholenum - 9*beginnum - 15*endnum)/24\n",
    "            for k in range(48):\n",
    "                if k <= 17:\n",
    "                    num = beginnum + (highnum - beginnum) * (k/17)\n",
    "                    slotnumlist.append(round(num * (random.random()*0.6 + 0.7)))\n",
    "                else:\n",
    "                    num = endnum + (highnum - endnum) * ((47-k)/30)\n",
    "                    slotnumlist.append(round(num * (random.random()*0.6 + 0.7)))\n",
    "        elif j == 8:\n",
    "            wholenum = originlist[8] + originlist[9] + originlist[10] + originlist[11]\n",
    "            beginnum = (originlist[7] * 0.08)\n",
    "            endnum = (originlist[12] * 0.08) \n",
    "            highnum = (wholenum - 9*beginnum - 15*endnum)/24\n",
    "            for k in range(48):\n",
    "                if k <= 17:\n",
    "                    num = beginnum + (highnum - beginnum) * k/17\n",
    "                    slotnumlist.append(round(num * (random.random()*0.6 + 0.7)))\n",
    "                else:\n",
    "                    num = endnum + (highnum - endnum) * ((47-k)/30)\n",
    "                    slotnumlist.append(round(num * (random.random()*0.6 + 0.7)))\n",
    "        elif j in [3,4,5,9,10,11]:\n",
    "            continue\n",
    "        else:\n",
    "            for k in range(12):\n",
    "                slotnumlist.append(round(originlist[j] * 0.08 * (random.random()*0.6 + 0.7)))\n",
    "        if len(slotnumlist) == 48:\n",
    "            daynumlist.append(slotnumlist[:12])\n",
    "            daynumlist.append(slotnumlist[12:24])\n",
    "            daynumlist.append(slotnumlist[24:36])\n",
    "            daynumlist.append(slotnumlist[36:])\n",
    "        else:\n",
    "            daynumlist.append(slotnumlist)\n",
    "    wholenumlist.append(daynumlist)"
   ],
   "metadata": {
    "collapsed": false,
    "pycharm": {
     "name": "#%%\n"
    }
   }
  },
  {
   "cell_type": "code",
   "execution_count": null,
   "outputs": [],
   "source": [
    "# 对于每一个订单，开始分配起终点"
   ],
   "metadata": {
    "collapsed": false,
    "pycharm": {
     "name": "#%%\n"
    }
   }
  },
  {
   "cell_type": "code",
   "execution_count": null,
   "outputs": [],
   "source": [
    "# 用概率来解决问题\n",
    "# 每一个订单产生，它的商家在哪里，它的顾客又在哪里，这两者离多远？\n",
    "# 如何确定订单产生的商家？40% 40% 15% 5% 产生概率，然后在内部进行随机平均产生\n",
    "# 如何确定订单配送的位置？35% 10% 50% 5% 但距离会对订单配送位置产生影响，距离<6 30%  6<x<12  40%   >12 30%\n",
    "# 所以需要给每一个node记录，记录node距离它的四种类型的[]"
   ],
   "metadata": {
    "collapsed": false,
    "pycharm": {
     "name": "#%%\n"
    }
   }
  },
  {
   "cell_type": "code",
   "execution_count": null,
   "outputs": [],
   "source": [
    "nodeTypeList0 = []\n",
    "nodeTypeList1 = []\n",
    "nodeTypeList2 = []\n",
    "nodeTypeList3 = []\n",
    "for x in nodeMatrix:\n",
    "    for y in x:\n",
    "        if y.nodeType == 0:\n",
    "            nodeTypeList0.append(y)\n",
    "        elif y.nodeType == 1:\n",
    "            nodeTypeList1.append(y)\n",
    "        elif y.nodeType == 2:\n",
    "            nodeTypeList2.append(y)\n",
    "        else:\n",
    "            nodeTypeList3.append(y)\n",
    "nodeList = [nodeTypeList0,nodeTypeList1,nodeTypeList2,nodeTypeList3]"
   ],
   "metadata": {
    "collapsed": false,
    "pycharm": {
     "name": "#%%\n"
    }
   }
  },
  {
   "cell_type": "code",
   "execution_count": null,
   "outputs": [],
   "source": [
    "num = 0\n",
    "finalOrderList = []\n",
    "for i in range(30):  # 每一天\n",
    "    onedayOrderList = []\n",
    "    for j in range(15):  # 每个小时\n",
    "        for k in range(12): # 每个时段\n",
    "            oneslotOrderList = []\n",
    "            orderNum = wholenumlist[i][j][k]\n",
    "            while orderNum >= 0:\n",
    "                ID = num\n",
    "                day = i  # 订单天数\n",
    "                time = 12*j + k # 订单时间\n",
    "                # 生成订单起点(merchant position random)\n",
    "                randoma = random.random()\n",
    "                if randoma < 0.4:\n",
    "                    merchantPos = random.choice(nodeTypeList0)\n",
    "                elif randoma >=0.4 and randoma < 0.8:\n",
    "                    merchantPos = random.choice(nodeTypeList1)\n",
    "                elif randoma >=0.8 and randoma < 0.95:\n",
    "                    merchantPos = random.choice(nodeTypeList2)\n",
    "                else:\n",
    "                    merchantPos = random.choice(nodeTypeList3)\n",
    "                merchantPosL = merchantPos.nodeNum  # 商店节点\n",
    "                # 生成订单终点（customer position random）\n",
    "                randomb = random.random() # 生成终点位置\n",
    "                if randomb < 0.3:\n",
    "                    userPos = merchantPos.sixNode\n",
    "                elif randomb >= 0.3 and randomb < 0.7:\n",
    "                    userPos = merchantPos.twelveNode\n",
    "                else:\n",
    "                    userPos = merchantPos.moreNode\n",
    "                randomc = random.random() # 生成终点类型\n",
    "                if randomc < 0.35 and len(userPos[0])!=0:\n",
    "                    userPos = random.choice(userPos[0])\n",
    "                elif randomc >= 0.35 and randomc < 0.45 and len(userPos[1])!=0:\n",
    "                    userPos = random.choice(userPos[1])\n",
    "                elif randomc >= 0.45 and randomc < 0.95 and len(userPos[2])!=0:\n",
    "                    userPos = random.choice(userPos[2])\n",
    "                else:\n",
    "                    userPos = random.choice(userPos[3])\n",
    "                userPosL = userPos.nodeNum  # 顾客节点\n",
    "                merchantX,merchantY = int(merchantPosL/20),int(merchantPosL%20)\n",
    "                userX,userY = int(userPosL/20),int(userPosL/20)\n",
    "                oriDistance = count_distance((merchantX,merchantY),(userX,userY)) # 原始的距离（时间）\n",
    "                promiseTime = max(30,oriDistance + 6 + 20)\n",
    "                promiseTime = round(min(50,promiseTime))\n",
    "                price = round((oriDistance + 6 + random.random()*10 - 5)* 0.2,1)\n",
    "                finalOrderInfo = [ID,day,time,merchantPosL,userPosL,promiseTime,price]\n",
    "                oneslotOrderList.append(finalOrderInfo)\n",
    "                num = num + 1\n",
    "                orderNum -= 1\n",
    "            onedayOrderList.append(oneslotOrderList)\n",
    "    finalOrderList.append(onedayOrderList)"
   ],
   "metadata": {
    "collapsed": false,
    "pycharm": {
     "name": "#%%\n"
    }
   }
  },
  {
   "cell_type": "code",
   "execution_count": null,
   "outputs": [],
   "source": [],
   "metadata": {
    "collapsed": false,
    "pycharm": {
     "name": "#%%\n"
    }
   }
  },
  {
   "cell_type": "code",
   "execution_count": null,
   "outputs": [],
   "source": [],
   "metadata": {
    "collapsed": false,
    "pycharm": {
     "name": "#%%\n"
    }
   }
  },
  {
   "cell_type": "code",
   "execution_count": null,
   "outputs": [],
   "source": [
    "testData = pd.read_csv('../2020-10-12中环数据.csv')"
   ],
   "metadata": {
    "collapsed": false,
    "pycharm": {
     "name": "#%%\n"
    }
   }
  },
  {
   "cell_type": "code",
   "execution_count": null,
   "outputs": [],
   "source": [
    "Time = pd.DataFrame(testData['order_create_time'])\n",
    "Time['order_create_time'] = pd.to_datetime(Time['order_create_time'],format = '%Y/%m/%d %H:%M')\n",
    "Time['hour'] = Time['order_create_time'].apply(lambda x:x.hour)"
   ],
   "metadata": {
    "collapsed": false,
    "pycharm": {
     "name": "#%%\n"
    }
   }
  },
  {
   "cell_type": "code",
   "execution_count": null,
   "outputs": [],
   "source": [
    "Time.hour.value_counts()"
   ],
   "metadata": {
    "collapsed": false,
    "pycharm": {
     "name": "#%%\n"
    }
   }
  },
  {
   "cell_type": "code",
   "execution_count": null,
   "outputs": [],
   "source": [
    "numlist = [1551,1799,5528,13402,6512,3302,2243,1844,2054,2948,2976,2101,1428,990,772]"
   ],
   "metadata": {
    "collapsed": false,
    "pycharm": {
     "name": "#%%\n"
    }
   }
  },
  {
   "cell_type": "code",
   "execution_count": null,
   "outputs": [],
   "source": [
    "sumnumlist = sum(numlist)\n",
    "perlist = [0] * len(numlist)\n",
    "for i in range(len(numlist)):\n",
    "    perlist[i] = round(numlist[i]/sumnumlist,4)"
   ],
   "metadata": {
    "collapsed": false,
    "pycharm": {
     "name": "#%%\n"
    }
   }
  },
  {
   "cell_type": "code",
   "execution_count": null,
   "outputs": [],
   "source": [
    "perlist"
   ],
   "metadata": {
    "collapsed": false,
    "pycharm": {
     "name": "#%%\n"
    }
   }
  },
  {
   "cell_type": "code",
   "execution_count": null,
   "outputs": [],
   "source": [
    "# 30天为20000单上下30%波动"
   ],
   "metadata": {
    "collapsed": false,
    "pycharm": {
     "name": "#%%\n"
    }
   }
  },
  {
   "cell_type": "code",
   "execution_count": null,
   "outputs": [],
   "source": [
    "origindaynumlist = []\n",
    "for i in range(30):\n",
    "    num = round(20000 * (1 + (random.random()* 0.6 - 0.3)))\n",
    "    origindaynumlist.append(num)"
   ],
   "metadata": {
    "collapsed": false,
    "pycharm": {
     "name": "#%%\n"
    }
   }
  },
  {
   "cell_type": "code",
   "execution_count": null,
   "outputs": [],
   "source": [
    "origindaynumlist"
   ],
   "metadata": {
    "collapsed": false,
    "pycharm": {
     "name": "#%%\n"
    }
   }
  },
  {
   "cell_type": "code",
   "execution_count": null,
   "outputs": [],
   "source": [
    "#对于一天的订单量要将它们分摊到180个时间段内，且需要有一定的波动性(先分15个，再分12个)"
   ],
   "metadata": {
    "collapsed": false,
    "pycharm": {
     "name": "#%%\n"
    }
   }
  },
  {
   "cell_type": "code",
   "execution_count": null,
   "outputs": [],
   "source": [
    "wholenumlist=[] # 30 + 15 + 12\n",
    "for i in range(30):\n",
    "    originlist = [per*origindaynumlist[i] for per in perlist]\n",
    "    originlist = [round(originnum) for originnum in originlist]  # 每天原始的每小时的订单，由真实数据概率生成\n",
    "    daynumlist = []\n",
    "    for j in range(15):\n",
    "        originlist[j] = round(originlist[j] * (random.random() * 0.2 + 0.9))\n",
    "        slotnumlist = []\n",
    "        # 特殊考虑时间段一：10-13\n",
    "        # 特殊考虑时间段二：16-19\n",
    "        # 剩下时间点保持不变\n",
    "        if j == 2:\n",
    "            wholenum = originlist[2] + originlist[3] + originlist[4] + originlist[5]\n",
    "            beginnum = (originlist[1] * 0.08)\n",
    "            endnum = (originlist[6] * 0.08) \n",
    "            highnum = (wholenum - 9*beginnum - 15*endnum)/24\n",
    "            for k in range(48):\n",
    "                if k <= 17:\n",
    "                    num = beginnum + (highnum - beginnum) * (k/17)\n",
    "                    slotnumlist.append(round(num * (random.random()*0.6 + 0.7)))\n",
    "                else:\n",
    "                    num = endnum + (highnum - endnum) * ((47-k)/30)\n",
    "                    slotnumlist.append(round(num * (random.random()*0.6 + 0.7)))\n",
    "        elif j == 8:\n",
    "            wholenum = originlist[8] + originlist[9] + originlist[10] + originlist[11]\n",
    "            beginnum = (originlist[7] * 0.08)\n",
    "            endnum = (originlist[12] * 0.08) \n",
    "            highnum = (wholenum - 9*beginnum - 15*endnum)/24\n",
    "            for k in range(48):\n",
    "                if k <= 17:\n",
    "                    num = beginnum + (highnum - beginnum) * k/17\n",
    "                    slotnumlist.append(round(num * (random.random()*0.6 + 0.7)))\n",
    "                else:\n",
    "                    num = endnum + (highnum - endnum) * ((47-k)/30)\n",
    "                    slotnumlist.append(round(num * (random.random()*0.6 + 0.7)))\n",
    "        elif j in [3,4,5,9,10,11]:\n",
    "            continue\n",
    "        else:\n",
    "            for k in range(12):\n",
    "                slotnumlist.append(round(originlist[j] * 0.08 * (random.random()*0.6 + 0.7)))\n",
    "        if len(slotnumlist) == 48:\n",
    "            daynumlist.append(slotnumlist[:12])\n",
    "            daynumlist.append(slotnumlist[12:24])\n",
    "            daynumlist.append(slotnumlist[24:36])\n",
    "            daynumlist.append(slotnumlist[36:])\n",
    "        else:\n",
    "            daynumlist.append(slotnumlist)\n",
    "    wholenumlist.append(daynumlist)"
   ],
   "metadata": {
    "collapsed": false,
    "pycharm": {
     "name": "#%%\n"
    }
   }
  },
  {
   "cell_type": "code",
   "execution_count": null,
   "outputs": [],
   "source": [
    "# 对于每一个订单，开始分配起终点"
   ],
   "metadata": {
    "collapsed": false,
    "pycharm": {
     "name": "#%%\n"
    }
   }
  },
  {
   "cell_type": "code",
   "execution_count": null,
   "outputs": [],
   "source": [
    "# 用概率来解决问题\n",
    "# 每一个订单产生，它的商家在哪里，它的顾客又在哪里，这两者离多远？\n",
    "# 如何确定订单产生的商家？40% 40% 15% 5% 产生概率，然后在内部进行随机平均产生\n",
    "# 如何确定订单配送的位置？35% 10% 50% 5% 但距离会对订单配送位置产生影响，距离<6 30%  6<x<12  40%   >12 30%\n",
    "# 所以需要给每一个node记录，记录node距离它的四种类型的[]"
   ],
   "metadata": {
    "collapsed": false,
    "pycharm": {
     "name": "#%%\n"
    }
   }
  },
  {
   "cell_type": "code",
   "execution_count": null,
   "outputs": [],
   "source": [
    "nodeTypeList0 = []\n",
    "nodeTypeList1 = []\n",
    "nodeTypeList2 = []\n",
    "nodeTypeList3 = []\n",
    "for x in nodeMatrix:\n",
    "    for y in x:\n",
    "        if y.nodeType == 0:\n",
    "            nodeTypeList0.append(y)\n",
    "        elif y.nodeType == 1:\n",
    "            nodeTypeList1.append(y)\n",
    "        elif y.nodeType == 2:\n",
    "            nodeTypeList2.append(y)\n",
    "        else:\n",
    "            nodeTypeList3.append(y)\n",
    "nodeList = [nodeTypeList0,nodeTypeList1,nodeTypeList2,nodeTypeList3]"
   ],
   "metadata": {
    "collapsed": false,
    "pycharm": {
     "name": "#%%\n"
    }
   }
  },
  {
   "cell_type": "code",
   "execution_count": null,
   "outputs": [],
   "source": [
    "num = 0\n",
    "finalOrderList = []\n",
    "for i in range(30):  # 每一天\n",
    "    onedayOrderList = []\n",
    "    for j in range(15):  # 每个小时\n",
    "        for k in range(12): # 每个时段\n",
    "            oneslotOrderList = []\n",
    "            orderNum = wholenumlist[i][j][k]\n",
    "            while orderNum >= 0:\n",
    "                ID = num\n",
    "                day = i  # 订单天数\n",
    "                time = 12*j + k # 订单时间\n",
    "                # 生成订单起点(merchant position random)\n",
    "                randoma = random.random()\n",
    "                if randoma < 0.4:\n",
    "                    merchantPos = random.choice(nodeTypeList0)\n",
    "                elif randoma >=0.4 and randoma < 0.8:\n",
    "                    merchantPos = random.choice(nodeTypeList1)\n",
    "                elif randoma >=0.8 and randoma < 0.95:\n",
    "                    merchantPos = random.choice(nodeTypeList2)\n",
    "                else:\n",
    "                    merchantPos = random.choice(nodeTypeList3)\n",
    "                merchantPosL = merchantPos.nodeNum  # 商店节点\n",
    "                # 生成订单终点（customer position random）\n",
    "                randomb = random.random() # 生成终点位置\n",
    "                if randomb < 0.3:\n",
    "                    userPos = merchantPos.sixNode\n",
    "                elif randomb >= 0.3 and randomb < 0.7:\n",
    "                    userPos = merchantPos.twelveNode\n",
    "                else:\n",
    "                    userPos = merchantPos.moreNode\n",
    "                randomc = random.random() # 生成终点类型\n",
    "                if randomc < 0.35 and len(userPos[0])!=0:\n",
    "                    userPos = random.choice(userPos[0])\n",
    "                elif randomc >= 0.35 and randomc < 0.45 and len(userPos[1])!=0:\n",
    "                    userPos = random.choice(userPos[1])\n",
    "                elif randomc >= 0.45 and randomc < 0.95 and len(userPos[2])!=0:\n",
    "                    userPos = random.choice(userPos[2])\n",
    "                else:\n",
    "                    userPos = random.choice(userPos[3])\n",
    "                userPosL = userPos.nodeNum  # 顾客节点\n",
    "                merchantX,merchantY = int(merchantPosL/20),int(merchantPosL%20)\n",
    "                userX,userY = int(userPosL/20),int(userPosL/20)\n",
    "                oriDistance = count_distance((merchantX,merchantY),(userX,userY)) # 原始的距离（时间）\n",
    "                promiseTime = max(30,oriDistance + 6 + 20)\n",
    "                promiseTime = round(min(50,promiseTime))\n",
    "                price = round((oriDistance + 6 + random.random()*10 - 5)* 0.2,1)\n",
    "                finalOrderInfo = [ID,day,time,merchantPosL,userPosL,promiseTime,price]\n",
    "                oneslotOrderList.append(finalOrderInfo)\n",
    "                num = num + 1\n",
    "                orderNum -= 1\n",
    "            onedayOrderList.append(oneslotOrderList)\n",
    "    finalOrderList.append(onedayOrderList)"
   ],
   "metadata": {
    "collapsed": false,
    "pycharm": {
     "name": "#%%\n"
    }
   }
  },
  {
   "cell_type": "code",
   "execution_count": null,
   "outputs": [],
   "source": [],
   "metadata": {
    "collapsed": false,
    "pycharm": {
     "name": "#%%\n"
    }
   }
  }
 ],
 "metadata": {
  "kernelspec": {
   "display_name": "Python [conda env:pytorch18]",
   "language": "python",
   "name": "conda-env-pytorch18-py"
  },
  "language_info": {
   "codemirror_mode": {
    "name": "ipython",
    "version": 3
   },
   "file_extension": ".py",
   "mimetype": "text/x-python",
   "name": "python",
   "nbconvert_exporter": "python",
   "pygments_lexer": "ipython3",
   "version": "3.7.10"
  }
 },
 "nbformat": 4,
 "nbformat_minor": 2
}