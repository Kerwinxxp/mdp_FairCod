{
 "cells": [
  {
   "cell_type": "code",
   "execution_count": 7,
   "metadata": {},
   "outputs": [],
   "source": [
    "# 设计一些toy data example去支撑我们的设计\n",
    "# ①假设一：使用方形网格设计（后续可以改成六边形，其实也不一定有必要）\n",
    "# ② 假设二：区域设定为6公里 × 6公里，设定一个合理的骑手速度，骑手量与订单量（骑手量和订单量可以作为变量调节）\n",
    "# ③ 假设三：区域6km × 6km，网格300m × 300m，形成一个20 × 20 = 400的网格区域，纬度为30.70 -- 30.76,经度121.10--121.16，\n",
    "#一个小区域0.0005 × 0.0005，比如30.70 --30.703,121.10 -- 121.103。即0.06为6km，0.003为300m。\n",
    "# ④ 假设四：骑手速度：12.11km/h,200m/min。这样跑一个对角需要42min，差不多。"
   ]
  },
  {
   "cell_type": "markdown",
   "metadata": {},
   "source": [
    "### 丁一学长给的经纬度对应关系"
   ]
  },
  {
   "cell_type": "code",
   "execution_count": 8,
   "metadata": {},
   "outputs": [],
   "source": [
    "# The following is the lat/lon area I used to cover Shanghai.\n",
    "# AND latitude > 30.7 AND latitude < 31.5\n",
    "# AND longitude > 121.1 AND longitude < 121.9\n",
    "\n",
    "# The following is the mapping between grid ID and lat/lon.\n",
    "# ((FLOOR(t1.latitude*100)-3070)*80+(FLOOR(t1.longitude*100)-12110)) AS grid_id"
   ]
  },
  {
   "cell_type": "markdown",
   "metadata": {},
   "source": [
    "### 头文件区"
   ]
  },
  {
   "cell_type": "code",
   "execution_count": 12,
   "metadata": {},
   "outputs": [],
   "source": [
    "from math import sin, asin, cos, radians, fabs, sqrt\n",
    "EARTH_RADIUS = 6371  # 地球平均半径，6371km"
   ]
  },
  {
   "cell_type": "markdown",
   "metadata": {},
   "source": [
    "### 函数区"
   ]
  },
  {
   "cell_type": "code",
   "execution_count": 15,
   "metadata": {},
   "outputs": [],
   "source": [
    "def hav(theta):\n",
    "    s = sin(theta / 2)\n",
    "    return s * s\n",
    "\n",
    "\n",
    "def get_distance_hav(lat0, lng0, lat1, lng1):\n",
    "    \"\"\"\n",
    "     用haversine公式计算球面两点间的距离\n",
    "    \"\"\"\n",
    "    # 经纬度转换成弧度\n",
    "    lat0 = radians(lat0)\n",
    "    lat1 = radians(lat1)\n",
    "    lng0 = radians(lng0)\n",
    "    lng1 = radians(lng1)\n",
    "\n",
    "    dlng = fabs(lng0 - lng1)\n",
    "    dlat = fabs(lat0 - lat1)\n",
    "    h = hav(dlat) + cos(lat0) * cos(lat1) * hav(dlng)\n",
    "    distance = 2 * EARTH_RADIUS * asin(sqrt(h))\n",
    "\n",
    "    return round(distance * 1000)"
   ]
  },
  {
   "cell_type": "code",
   "execution_count": 19,
   "metadata": {},
   "outputs": [
    {
     "data": {
      "text/plain": [
       "334"
      ]
     },
     "execution_count": 19,
     "metadata": {},
     "output_type": "execute_result"
    }
   ],
   "source": [
    "get_distance_hav(30.70,121.10,30.703,121.10)"
   ]
  },
  {
   "cell_type": "markdown",
   "metadata": {},
   "source": [
    " ### 确定有多少家商家，多少个骑手，多少个订单"
   ]
  },
  {
   "cell_type": "code",
   "execution_count": 23,
   "metadata": {},
   "outputs": [],
   "source": [
    "# 区域: latitude:30.70--30.76    longitude: 121.10 -- 121.16    6000m 300m  200m/min"
   ]
  },
  {
   "cell_type": "code",
   "execution_count": 24,
   "metadata": {},
   "outputs": [],
   "source": [
    "# 将区域分为四个部分：高商高顾（CBD），高商低顾（商业区），低商高顾（居民区），低商低顾（郊区）"
   ]
  },
  {
   "cell_type": "code",
   "execution_count": 26,
   "metadata": {},
   "outputs": [],
   "source": [
    "# 派单区域按照网格来算，每五分钟更新骑手所在的位置和所在的网格，如果骑手在更新时还没有收到新订单，他会前往最近的CBD区和商业区。"
   ]
  },
  {
   "cell_type": "code",
   "execution_count": 27,
   "metadata": {},
   "outputs": [],
   "source": [
    "# 每五分钟派一次单，即每五分钟更新一次骑手的状态，骑手的状态分为三种(配送中，等待中，回程中)，\n",
    "#配送中会记录处在哪个区域内，还有多久离开这个区域，下一个区域名称。\n",
    "# 等待中会记录处在哪个区域中，还有多少等待时间。\n",
    "# 回程中会记录处在哪个区域内，还有多久离开这个区域，下一个区域名称。\n",
    "# 骑手前往临近区域只有两种，直行/斜行，直行300m花费1.5min，斜行400m花费2min。\n",
    "# 骑手会记录一个路径，在派单的过程中会持续记录路径"
   ]
  },
  {
   "cell_type": "code",
   "execution_count": null,
   "metadata": {},
   "outputs": [],
   "source": [
    "# 30个CBD，44个商业区，85个居民区，242个郊区。\n",
    "# 400个区域，293个商家，1000个骑手，n个订单（订单平均长度3500m，每个骑手每小时一定能处理3单）"
   ]
  },
  {
   "cell_type": "markdown",
   "metadata": {},
   "source": [
    "#### 确定每个区域的类型"
   ]
  },
  {
   "cell_type": "code",
   "execution_count": null,
   "metadata": {},
   "outputs": [],
   "source": [
    "# 区域的编号为：x + 10*y  (x,y都是0-19)"
   ]
  },
  {
   "cell_type": "code",
   "execution_count": 31,
   "metadata": {},
   "outputs": [],
   "source": [
    "CBDList = [23,47,30,48,56,92,68,78,79,101,103,84,85,99,121,106,107,128,138,139,152,147,157,181,196,159,203,193,189,196]\n",
    "commerceList = []\n",
    "residentList = []\n",
    "suburbList = []"
   ]
  },
  {
   "cell_type": "code",
   "execution_count": null,
   "metadata": {},
   "outputs": [],
   "source": []
  }
 ],
 "metadata": {
  "kernelspec": {
   "display_name": "Python [conda env:pytorch18]",
   "language": "python",
   "name": "conda-env-pytorch18-py"
  },
  "language_info": {
   "codemirror_mode": {
    "name": "ipython",
    "version": 3
   },
   "file_extension": ".py",
   "mimetype": "text/x-python",
   "name": "python",
   "nbconvert_exporter": "python",
   "pygments_lexer": "ipython3",
   "version": "3.7.10"
  }
 },
 "nbformat": 4,
 "nbformat_minor": 2
}
